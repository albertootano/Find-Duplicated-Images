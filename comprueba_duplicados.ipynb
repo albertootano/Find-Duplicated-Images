{
 "cells": [
  {
   "cell_type": "code",
   "execution_count": null,
   "metadata": {},
   "outputs": [],
   "source": [
    "from PIL import Image\n",
    "import imagehash\n",
    "import os\n",
    "import numpy as np\n",
    "import shutil\n",
    "\n",
    "import matplotlib.pyplot as plt\n",
    "import matplotlib.image as mpimg\n"
   ]
  },
  {
   "cell_type": "code",
   "execution_count": null,
   "metadata": {},
   "outputs": [],
   "source": [
    "\n",
    "class DuplicateRemover:\n",
    "    def __init__(self,dirname,hash_size = 8):\n",
    "        self.dirname = dirname\n",
    "        self.hash_size = hash_size\n",
    "\n",
    "    def find_duplicates(self):\n",
    "        \"\"\"\n",
    "        Find and Delete Duplicates\n",
    "        \"\"\"\n",
    "\n",
    "        fnames_ = os.listdir(self.dirname)\n",
    "        fnames = [x for x in fnames_ if x.endswith(('jpg', 'png'))]\n",
    "        hashes = {}\n",
    "        duplicates = []\n",
    "\n",
    "        texto = ''\n",
    "\n",
    "        print(\"Finding Duplicates Now!\\n\")\n",
    "        for image in fnames:\n",
    "            with Image.open(os.path.join(self.dirname,image)) as img:\n",
    "                temp_hash = imagehash.average_hash(img, self.hash_size)\n",
    "                if temp_hash in hashes:\n",
    "\n",
    "                    size_img1 = Image.open(f'{self.dirname}/{image}').size\n",
    "                    size_img2 = Image.open(f'{self.dirname}/{hashes[temp_hash]}').size\n",
    "\n",
    "                    size_img1 = size_img1[0] * size_img1[1]\n",
    "                    size_img2 = size_img2[0] * size_img2[1]\n",
    "\n",
    "                    print(f\"Original: {image} ({size_img1}) - copia: {hashes[temp_hash]} ({size_img2})\")\n",
    "                    texto += f\"Original: {image} ({size_img1}) - copia: {hashes[temp_hash]} ({size_img2}) \\n\"\n",
    "\n",
    "                    if size_img1 > size_img2:\n",
    "                        duplicates.append(hashes[temp_hash])\n",
    "                    else:\n",
    "                        duplicates.append(image)\n",
    "\n",
    "                    fig = plt.figure(figsize=(8, 4))\n",
    "\n",
    "                    img1 = mpimg.imread(f'{self.dirname}/{image}')\n",
    "                    ax = fig.add_subplot(1, 2, 1)\n",
    "                    imgplot = plt.imshow(img1)\n",
    "                    ax.set_title(image)\n",
    "\n",
    "                    img2 = mpimg.imread(f'{self.dirname}/{hashes[temp_hash]}')\n",
    "                    ax = fig.add_subplot(1, 2, 2)\n",
    "                    imgplot = plt.imshow(img2)\n",
    "                    ax.set_title(hashes[temp_hash])\n",
    "\n",
    "\n",
    "\n",
    "                else:\n",
    "                    hashes[temp_hash] = image\n",
    "\n",
    "        if len(duplicates) != 0:\n",
    "            a = input(\"Do you want to move these {} Images? Press Y or N:  \".format(len(duplicates)))\n",
    "            if(a.strip().lower() == \"y\"):\n",
    "\n",
    "                isExist = os.path.exists(f'{self.dirname}/Duplicates')\n",
    "                if not isExist:\n",
    "                    os.mkdir(f'{self.dirname}/Duplicates')\n",
    "\n",
    "                text_file = open(f'{self.dirname}/Duplicates/duplicates.txt', \"w\")\n",
    "                text_file.write(texto)\n",
    "                text_file.close()\n",
    "\n",
    "                for image in duplicates:\n",
    "                    shutil.move(f'{self.dirname}/{image}',f'{self.dirname}/Duplicates/{image}')\n",
    "                    print(\"{} moved to Duplicates Folder!\".format(image))\n",
    "            else:\n",
    "                print(\"No Images Moved!\")\n",
    "                \n",
    "        else:\n",
    "            print(\"No Duplicates Found!\")\n",
    "\n",
    "\n",
    "\n",
    "\n",
    "\n",
    "\n",
    "\n"
   ]
  },
  {
   "cell_type": "code",
   "execution_count": null,
   "metadata": {},
   "outputs": [
    {
     "name": "stdout",
     "output_type": "stream",
     "text": [
      "Finding Duplicates Now!\n",
      "\n"
     ]
    }
   ],
   "source": [
    "dirname = \"F:/IMAGENES/FOTOS/OTRAS/xxx\"\n",
    "dr = DuplicateRemover(dirname)\n",
    "dr.find_duplicates()"
   ]
  },
  {
   "cell_type": "code",
   "execution_count": null,
   "metadata": {},
   "outputs": [],
   "source": []
  },
  {
   "cell_type": "code",
   "execution_count": null,
   "metadata": {},
   "outputs": [],
   "source": []
  },
  {
   "cell_type": "code",
   "execution_count": null,
   "metadata": {},
   "outputs": [],
   "source": []
  },
  {
   "cell_type": "code",
   "execution_count": null,
   "metadata": {},
   "outputs": [],
   "source": [
    "        # if len(duplicates) != 0:\n",
    "        #     a = input(\"Do you want to delete these {} Images? Press Y or N:  \".format(len(duplicates)))\n",
    "        #     space_saved = 0\n",
    "        #     if(a.strip().lower() == \"y\"):\n",
    "        #         for duplicate in duplicates:\n",
    "        #             space_saved += os.path.getsize(os.path.join(self.dirname,duplicate))\n",
    "\n",
    "        #             os.remove(os.path.join(self.dirname,duplicate))\n",
    "        #             print(\"{} Deleted Succesfully!\".format(duplicate))\n",
    "\n",
    "        #         print(\"\\n\\nYou saved {} mb of Space!\".format(round(space_saved/1000000),2))\n",
    "        #     else:\n",
    "        #         print(\"Thank you for Using Duplicate Remover\")\n",
    "        # else:\n",
    "        #     print(\"No Duplicates Found :(\")\n",
    "\n",
    "\n",
    "\n",
    "\n",
    "    # def find_similar(self,location,similarity=80):\n",
    "    #     fnames = os.listdir(self.dirname)\n",
    "    #     threshold = 1 - similarity/100\n",
    "    #     diff_limit = int(threshold*(self.hash_size**2))\n",
    "\n",
    "    #     with Image.open(location) as img:\n",
    "    #         hash1 = imagehash.average_hash(img, self.hash_size).hash\n",
    "\n",
    "    #     print(\"Finding Similar Images to {} Now!\\n\".format(location))\n",
    "    #     for image in fnames:\n",
    "    #         with Image.open(os.path.join(self.dirname,image)) as img:\n",
    "    #             hash2 = imagehash.average_hash(img, self.hash_size).hash\n",
    "\n",
    "    #             if np.count_nonzero(hash1 != hash2) <= diff_limit:\n",
    "    #                 print(\"{} image found {}% similar to {}\".format(image,similarity,location))\n"
   ]
  }
 ],
 "metadata": {
  "kernelspec": {
   "display_name": "Python 3.10.4 64-bit",
   "language": "python",
   "name": "python3"
  },
  "language_info": {
   "codemirror_mode": {
    "name": "ipython",
    "version": 3
   },
   "file_extension": ".py",
   "mimetype": "text/x-python",
   "name": "python",
   "nbconvert_exporter": "python",
   "pygments_lexer": "ipython3",
   "version": "3.10.4"
  },
  "orig_nbformat": 4,
  "vscode": {
   "interpreter": {
    "hash": "7600a12950a547366bb7a6732117e300ffd26224351912980486e1126c5d0f9a"
   }
  }
 },
 "nbformat": 4,
 "nbformat_minor": 2
}
